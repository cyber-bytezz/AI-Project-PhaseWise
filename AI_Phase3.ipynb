* Basic Information about the Dataset
* Data Cleaning and�Preprocessing
* Descriptive Statistics
* Visualizations
* Grouping and Aggregation
* Correlation Matrix
* Principal Component Analysis (PCA)


Analysis 1: Basic Information about the Dataset
In�[23]:

import pandas as pd

# Load the CSV file with specified encoding
df = pd.read_csv('Data_Gov_Tamil_Nadu.csv', encoding='ISO-8859-1')

     
<ipython-input-23-7deb450fa815>:4: DtypeWarning: Columns (10) have mixed types. Specify dtype option on import or set low_memory=False.
  df = pd.read_csv('Data_Gov_Tamil_Nadu.csv', encoding='ISO-8859-1')
Analysis 2: Data Cleaning and�Preprocessing
In�[24]:

# Example: Handling missing values
df.fillna(0, inplace=True)

     
Analysis 3: Descriptive Statistics
In�[25]:

# Example: Summary statistics for numeric columns
print("\nSummary Statistics for Numeric Columns:")
print(df.describe())

     
Summary Statistics for Numeric Columns:
       AUTHORIZED_CAP  PAIDUP_CAPITAL
count    1.508700e+05    1.508700e+05
mean     3.522804e+07    2.328839e+07
std      1.408558e+09    1.072461e+09
min      0.000000e+00    0.000000e+00
25%      1.000000e+05    1.000000e+05
50%      8.000000e+05    1.000000e+05
75%      2.000000e+06    6.858125e+05
max      3.000000e+11    2.461230e+11
Analysis 4: Visualizations
In�[26]:

import matplotlib.pyplot as plt

# Example: Histogram of Authorized Capital
plt.figure(figsize=(10, 6))
plt.hist(df['AUTHORIZED_CAP'], bins=20, color='skyblue')
plt.title('Histogram of Authorized Capital')
plt.xlabel('Authorized Capital')
plt.ylabel('Frequency')
plt.show()

     

Analysis 5: Grouping and Aggregation
In�[27]:

# Example: Average Paid-up Capital by Company Category
avg_paidup_capital_by_category = df.groupby('COMPANY_CATEGORY')['PAIDUP_CAPITAL'].mean()
print("\nAverage Paid-up Capital by Company Category:")
print(avg_paidup_capital_by_category)

     
Average Paid-up Capital by Company Category:
COMPANY_CATEGORY
0                               1.395509e+03
Company Limited by Guarantee    7.687411e+06
Company limited by Shares       2.340465e+07
Unlimited Company               1.746667e+06
Name: PAIDUP_CAPITAL, dtype: float64
Analysis 6: Correlation Matrix
In�[29]:

from sklearn.decomposition import PCA

# Assuming 'features' is a DataFrame containing only numeric columns
features = df.select_dtypes(include=['float64', 'int64'])
pca = PCA(n_components=2)
principal_components = pca.fit_transform(features)
principal_df = pd.DataFrame(data=principal_components, columns=['PC1', 'PC2'])
plt.figure(figsize=(10, 8))
plt.scatter(principal_df['PC1'], principal_df['PC2'])
plt.title('PCA')
plt.xlabel('Principal Component 1')
plt.ylabel('Principal Component 2')
plt.show()

     

Analysis 7: Principal Component Analysis (PCA)
In�[31]:

# Example: Correlation Matrix
import pandas as pd
import matplotlib.pyplot as plt
import seaborn as sns  # Add this line

# ... (rest of your code)

correlation_matrix = df.corr()
plt.figure(figsize=(10, 8))
sns.heatmap(correlation_matrix, annot=True, cmap='coolwarm', fmt=".2f")
plt.title('Correlation Matrix')
plt.show()
     
<ipython-input-31-7e79f78bd5cc>:8: FutureWarning: The default value of numeric_only in DataFrame.corr is deprecated. In a future version, it will default to False. Select only valid columns or specify the value of numeric_only to silence this warning.
  correlation_matrix = df.corr()





